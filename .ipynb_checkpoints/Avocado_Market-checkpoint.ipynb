{
 "cells": [
  {
   "cell_type": "markdown",
   "id": "7be23439",
   "metadata": {},
   "source": [
    "# Avocado Market - Time Series Regression"
   ]
  },
  {
   "cell_type": "markdown",
   "id": "28eb276b",
   "metadata": {},
   "source": [
    "### by ReDay Zarra"
   ]
  },
  {
   "cell_type": "markdown",
   "id": "b4aa7f16",
   "metadata": {},
   "source": [
    "This project utilizes **Facebook Prophet** to analyze time series data for avocados from this dataset. The data includes observation dates, average unit price, unit type, region, volume and more. This time series data will then be used to **predict the prices for avocados** at any given date. This project showcases a \n",
    "step-by-step implementation of the model as well as in-depth notes to customize the \n",
    "model further for higher accuracy."
   ]
  },
  {
   "cell_type": "markdown",
   "id": "b8bc18e1",
   "metadata": {},
   "source": [
    "## Importing the necessary libraries"
   ]
  },
  {
   "cell_type": "code",
   "execution_count": 1,
   "id": "311716aa",
   "metadata": {},
   "outputs": [],
   "source": [
    "import numpy as np\n",
    "import pandas as pd\n",
    "import matplotlib.pyplot as plt\n",
    "import random\n",
    "import seaborn as sns\n",
    "from prophet import Prophet"
   ]
  },
  {
   "cell_type": "markdown",
   "id": "2e83d491",
   "metadata": {},
   "source": [
    "> Pandas is a library used for data frame manipulations. NumPy is a package used for numerical analysis. Matplotlib and Seaborn are used for data visualization. Random will be used to generate random values. Facebook "
   ]
  },
  {
   "cell_type": "code",
   "execution_count": 2,
   "id": "39aa4118",
   "metadata": {},
   "outputs": [],
   "source": [
    "import matplotlib.pyplot as plt\n",
    "import seaborn as sns\n",
    "\n",
    "# Set seaborn style\n",
    "sns.set_style('darkgrid')"
   ]
  },
  {
   "cell_type": "markdown",
   "id": "ee0b5f1b",
   "metadata": {},
   "source": [
    "## Importing the dataset"
   ]
  },
  {
   "cell_type": "markdown",
   "id": "990f3921",
   "metadata": {},
   "source": [
    "Importing the dataset with the .read_csv method from Pandas to load the dataset and storing it in the avocado_df variable. We can take a glimpse at the dataset with the built-in Pandas methods."
   ]
  },
  {
   "cell_type": "code",
   "execution_count": 3,
   "id": "e5bc2435",
   "metadata": {},
   "outputs": [],
   "source": [
    "avocado_df = pd.read_csv('avocado.csv')"
   ]
  },
  {
   "cell_type": "code",
   "execution_count": 4,
   "id": "0f624115",
   "metadata": {},
   "outputs": [
    {
     "data": {
      "text/html": [
       "<div>\n",
       "<style scoped>\n",
       "    .dataframe tbody tr th:only-of-type {\n",
       "        vertical-align: middle;\n",
       "    }\n",
       "\n",
       "    .dataframe tbody tr th {\n",
       "        vertical-align: top;\n",
       "    }\n",
       "\n",
       "    .dataframe thead th {\n",
       "        text-align: right;\n",
       "    }\n",
       "</style>\n",
       "<table border=\"1\" class=\"dataframe\">\n",
       "  <thead>\n",
       "    <tr style=\"text-align: right;\">\n",
       "      <th></th>\n",
       "      <th>Unnamed: 0</th>\n",
       "      <th>Date</th>\n",
       "      <th>AveragePrice</th>\n",
       "      <th>Total Volume</th>\n",
       "      <th>4046</th>\n",
       "      <th>4225</th>\n",
       "      <th>4770</th>\n",
       "      <th>Total Bags</th>\n",
       "      <th>Small Bags</th>\n",
       "      <th>Large Bags</th>\n",
       "      <th>XLarge Bags</th>\n",
       "      <th>type</th>\n",
       "      <th>year</th>\n",
       "      <th>region</th>\n",
       "    </tr>\n",
       "  </thead>\n",
       "  <tbody>\n",
       "    <tr>\n",
       "      <th>0</th>\n",
       "      <td>0</td>\n",
       "      <td>2015-12-27</td>\n",
       "      <td>1.33</td>\n",
       "      <td>64236.62</td>\n",
       "      <td>1036.74</td>\n",
       "      <td>54454.85</td>\n",
       "      <td>48.16</td>\n",
       "      <td>8696.87</td>\n",
       "      <td>8603.62</td>\n",
       "      <td>93.25</td>\n",
       "      <td>0.0</td>\n",
       "      <td>conventional</td>\n",
       "      <td>2015</td>\n",
       "      <td>Albany</td>\n",
       "    </tr>\n",
       "    <tr>\n",
       "      <th>1</th>\n",
       "      <td>1</td>\n",
       "      <td>2015-12-20</td>\n",
       "      <td>1.35</td>\n",
       "      <td>54876.98</td>\n",
       "      <td>674.28</td>\n",
       "      <td>44638.81</td>\n",
       "      <td>58.33</td>\n",
       "      <td>9505.56</td>\n",
       "      <td>9408.07</td>\n",
       "      <td>97.49</td>\n",
       "      <td>0.0</td>\n",
       "      <td>conventional</td>\n",
       "      <td>2015</td>\n",
       "      <td>Albany</td>\n",
       "    </tr>\n",
       "    <tr>\n",
       "      <th>2</th>\n",
       "      <td>2</td>\n",
       "      <td>2015-12-13</td>\n",
       "      <td>0.93</td>\n",
       "      <td>118220.22</td>\n",
       "      <td>794.70</td>\n",
       "      <td>109149.67</td>\n",
       "      <td>130.50</td>\n",
       "      <td>8145.35</td>\n",
       "      <td>8042.21</td>\n",
       "      <td>103.14</td>\n",
       "      <td>0.0</td>\n",
       "      <td>conventional</td>\n",
       "      <td>2015</td>\n",
       "      <td>Albany</td>\n",
       "    </tr>\n",
       "    <tr>\n",
       "      <th>3</th>\n",
       "      <td>3</td>\n",
       "      <td>2015-12-06</td>\n",
       "      <td>1.08</td>\n",
       "      <td>78992.15</td>\n",
       "      <td>1132.00</td>\n",
       "      <td>71976.41</td>\n",
       "      <td>72.58</td>\n",
       "      <td>5811.16</td>\n",
       "      <td>5677.40</td>\n",
       "      <td>133.76</td>\n",
       "      <td>0.0</td>\n",
       "      <td>conventional</td>\n",
       "      <td>2015</td>\n",
       "      <td>Albany</td>\n",
       "    </tr>\n",
       "    <tr>\n",
       "      <th>4</th>\n",
       "      <td>4</td>\n",
       "      <td>2015-11-29</td>\n",
       "      <td>1.28</td>\n",
       "      <td>51039.60</td>\n",
       "      <td>941.48</td>\n",
       "      <td>43838.39</td>\n",
       "      <td>75.78</td>\n",
       "      <td>6183.95</td>\n",
       "      <td>5986.26</td>\n",
       "      <td>197.69</td>\n",
       "      <td>0.0</td>\n",
       "      <td>conventional</td>\n",
       "      <td>2015</td>\n",
       "      <td>Albany</td>\n",
       "    </tr>\n",
       "  </tbody>\n",
       "</table>\n",
       "</div>"
      ],
      "text/plain": [
       "   Unnamed: 0        Date  AveragePrice  Total Volume     4046       4225  \\\n",
       "0           0  2015-12-27          1.33      64236.62  1036.74   54454.85   \n",
       "1           1  2015-12-20          1.35      54876.98   674.28   44638.81   \n",
       "2           2  2015-12-13          0.93     118220.22   794.70  109149.67   \n",
       "3           3  2015-12-06          1.08      78992.15  1132.00   71976.41   \n",
       "4           4  2015-11-29          1.28      51039.60   941.48   43838.39   \n",
       "\n",
       "     4770  Total Bags  Small Bags  Large Bags  XLarge Bags          type  \\\n",
       "0   48.16     8696.87     8603.62       93.25          0.0  conventional   \n",
       "1   58.33     9505.56     9408.07       97.49          0.0  conventional   \n",
       "2  130.50     8145.35     8042.21      103.14          0.0  conventional   \n",
       "3   72.58     5811.16     5677.40      133.76          0.0  conventional   \n",
       "4   75.78     6183.95     5986.26      197.69          0.0  conventional   \n",
       "\n",
       "   year  region  \n",
       "0  2015  Albany  \n",
       "1  2015  Albany  \n",
       "2  2015  Albany  \n",
       "3  2015  Albany  \n",
       "4  2015  Albany  "
      ]
     },
     "execution_count": 4,
     "metadata": {},
     "output_type": "execute_result"
    }
   ],
   "source": [
    "avocado_df.head()"
   ]
  },
  {
   "cell_type": "markdown",
   "id": "bf054f0d",
   "metadata": {},
   "source": [
    "## Visualizing the dataset"
   ]
  },
  {
   "cell_type": "markdown",
   "id": "432abc26",
   "metadata": {},
   "source": [
    "Visualizing the dataset and conducting exploratory data analysis to find patterns and trends from the dataset. I will plot the data on different kinds of plots to compare components of the data that I find interesting."
   ]
  },
  {
   "cell_type": "markdown",
   "id": "9aa8e92e",
   "metadata": {},
   "source": [
    "### Year vs. Average Price"
   ]
  },
  {
   "cell_type": "code",
   "execution_count": 5,
   "id": "b550f1ff",
   "metadata": {},
   "outputs": [],
   "source": [
    "avocado_df = avocado_df.sort_values(\"Date\")"
   ]
  },
  {
   "cell_type": "markdown",
   "id": "d8c8ffd4",
   "metadata": {},
   "source": [
    "> Using the .sort_values to **sort the dataframe** from the values of the Date column"
   ]
  },
  {
   "cell_type": "code",
   "execution_count": null,
   "id": "7dc6152c",
   "metadata": {
    "scrolled": false
   },
   "outputs": [
    {
     "data": {
      "text/plain": [
       "<Figure size 1500x1500 with 0 Axes>"
      ]
     },
     "execution_count": 6,
     "metadata": {},
     "output_type": "execute_result"
    }
   ],
   "source": [
    "plt.plot(avocado_df['Date'], avocado_df['AveragePrice'])\n",
    "plt.figure(figsize = (15, 15))"
   ]
  },
  {
   "cell_type": "code",
   "execution_count": null,
   "id": "386740c7",
   "metadata": {},
   "outputs": [],
   "source": [
    "plt.figure(figsize = (30, 12))\n",
    "plt.xticks(rotation = 45)\n",
    "sns.countplot(x = 'region', data = avocado_df)"
   ]
  },
  {
   "cell_type": "code",
   "execution_count": null,
   "id": "10cee862",
   "metadata": {},
   "outputs": [],
   "source": [
    "sns.countplot(x = 'year', data = avocado_df)"
   ]
  },
  {
   "cell_type": "code",
   "execution_count": null,
   "id": "f5d9769c",
   "metadata": {},
   "outputs": [],
   "source": [
    "df_prophet = avocado_df[['Date', 'AveragePrice']]"
   ]
  },
  {
   "cell_type": "code",
   "execution_count": null,
   "id": "81c2c09e",
   "metadata": {},
   "outputs": [],
   "source": [
    "df_prophet"
   ]
  },
  {
   "cell_type": "markdown",
   "id": "4dc6ffd0",
   "metadata": {},
   "source": [
    "## Time Series Regression"
   ]
  },
  {
   "cell_type": "code",
   "execution_count": null,
   "id": "46412951",
   "metadata": {},
   "outputs": [],
   "source": [
    "df_prophet = df_prophet.rename(columns = {'Date':'ds', 'AveragePrice':'y'})"
   ]
  },
  {
   "cell_type": "code",
   "execution_count": null,
   "id": "a53d668f",
   "metadata": {},
   "outputs": [],
   "source": [
    "p = Prophet()"
   ]
  },
  {
   "cell_type": "code",
   "execution_count": null,
   "id": "6c3bc301",
   "metadata": {},
   "outputs": [],
   "source": [
    "p.fit(df_prophet)"
   ]
  },
  {
   "cell_type": "code",
   "execution_count": null,
   "id": "bd1f14e2",
   "metadata": {},
   "outputs": [],
   "source": [
    "wanted = p.make_future_dataframe(periods = 365)\n",
    "forecast = p.predict(wanted)"
   ]
  },
  {
   "cell_type": "code",
   "execution_count": null,
   "id": "97e92c4e",
   "metadata": {},
   "outputs": [],
   "source": [
    "forecast"
   ]
  },
  {
   "cell_type": "code",
   "execution_count": null,
   "id": "0dcd2358",
   "metadata": {},
   "outputs": [],
   "source": [
    "figure = p.plot(forecast, xlabel = 'Date', ylabel = 'Price')"
   ]
  },
  {
   "cell_type": "code",
   "execution_count": null,
   "id": "f530cb12",
   "metadata": {},
   "outputs": [],
   "source": [
    "figure = p.plot_components(forecast)"
   ]
  },
  {
   "cell_type": "markdown",
   "id": "d66f3c81",
   "metadata": {},
   "source": [
    "## Region Based - Time Series Regression"
   ]
  },
  {
   "cell_type": "code",
   "execution_count": null,
   "id": "8c3f1d39",
   "metadata": {},
   "outputs": [],
   "source": [
    "df_prophet = pd.read_csv('avocado.csv')"
   ]
  },
  {
   "cell_type": "code",
   "execution_count": null,
   "id": "8279307a",
   "metadata": {},
   "outputs": [],
   "source": [
    "df_prophet.head()"
   ]
  },
  {
   "cell_type": "code",
   "execution_count": null,
   "id": "3d118635",
   "metadata": {},
   "outputs": [],
   "source": [
    "df_prophet_region = df_prophet[df_prophet['region'] == 'West']"
   ]
  },
  {
   "cell_type": "code",
   "execution_count": null,
   "id": "b71c8e6c",
   "metadata": {},
   "outputs": [],
   "source": [
    "df_prophet_region = df_prophet_region.sort_values(\"Date\")"
   ]
  },
  {
   "cell_type": "code",
   "execution_count": null,
   "id": "1c6c1da1",
   "metadata": {},
   "outputs": [],
   "source": [
    "df_prophet_region.head()"
   ]
  },
  {
   "cell_type": "code",
   "execution_count": null,
   "id": "27f4fa16",
   "metadata": {
    "scrolled": true
   },
   "outputs": [],
   "source": [
    "plt.figure(figsize = (10, 10))\n",
    "plt.plot(df_prophet_region['Date'], df_prophet_region['AveragePrice'])"
   ]
  },
  {
   "cell_type": "code",
   "execution_count": null,
   "id": "0e01d206",
   "metadata": {},
   "outputs": [],
   "source": [
    "df_prophet_region = df_prophet_region[['Date', 'AveragePrice']]"
   ]
  },
  {
   "cell_type": "code",
   "execution_count": null,
   "id": "c5c172a6",
   "metadata": {},
   "outputs": [],
   "source": [
    "df_prophet_region = df_prophet_region.rename(columns = {'Date':'ds', 'AveragePrice':'y'})"
   ]
  },
  {
   "cell_type": "code",
   "execution_count": null,
   "id": "7abf7062",
   "metadata": {},
   "outputs": [],
   "source": [
    "df_prophet_region.head()"
   ]
  },
  {
   "cell_type": "code",
   "execution_count": null,
   "id": "0a124833",
   "metadata": {},
   "outputs": [],
   "source": [
    "r = Prophet()"
   ]
  },
  {
   "cell_type": "code",
   "execution_count": null,
   "id": "b77e6d69",
   "metadata": {},
   "outputs": [],
   "source": [
    "r.fit(df_prophet_region)"
   ]
  },
  {
   "cell_type": "code",
   "execution_count": null,
   "id": "575c933f",
   "metadata": {},
   "outputs": [],
   "source": [
    "new = r.make_future_dataframe(periods = 365)\n",
    "newfore = r.predict(new)"
   ]
  },
  {
   "cell_type": "code",
   "execution_count": null,
   "id": "f9c7d5dc",
   "metadata": {},
   "outputs": [],
   "source": [
    "fig = r.plot(newfore, xlabel = 'Date', ylabel = 'Price')"
   ]
  },
  {
   "cell_type": "code",
   "execution_count": null,
   "id": "3e8114f4",
   "metadata": {},
   "outputs": [],
   "source": [
    "fig = r.plot_components(newfore)"
   ]
  }
 ],
 "metadata": {
  "kernelspec": {
   "display_name": "Python 3 (ipykernel)",
   "language": "python",
   "name": "python3"
  },
  "language_info": {
   "codemirror_mode": {
    "name": "ipython",
    "version": 3
   },
   "file_extension": ".py",
   "mimetype": "text/x-python",
   "name": "python",
   "nbconvert_exporter": "python",
   "pygments_lexer": "ipython3",
   "version": "3.9.13"
  }
 },
 "nbformat": 4,
 "nbformat_minor": 5
}
