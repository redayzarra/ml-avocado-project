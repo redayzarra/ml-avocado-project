{
 "cells": [
  {
   "cell_type": "markdown",
   "id": "9b054733",
   "metadata": {},
   "source": [
    "# Avocado Market - Time Series Regression"
   ]
  },
  {
   "cell_type": "markdown",
   "id": "870b0e90",
   "metadata": {},
   "source": [
    "### by ReDay Zarra"
   ]
  },
  {
   "cell_type": "markdown",
   "id": "6adb83a1",
   "metadata": {},
   "source": [
    "This project utilizes **Facebook Prophet** to analyze time series data for avocados from this dataset. The data includes observation dates, average unit price, unit type, region, volume and more. This time series data will then be used to **predict the prices for avocados** at any given date. This project showcases a \n",
    "step-by-step implementation of the model as well as in-depth notes to customize the \n",
    "model further for higher accuracy."
   ]
  }
 ],
 "metadata": {
  "kernelspec": {
   "display_name": "Python 3 (ipykernel)",
   "language": "python",
   "name": "python3"
  },
  "language_info": {
   "codemirror_mode": {
    "name": "ipython",
    "version": 3
   },
   "file_extension": ".py",
   "mimetype": "text/x-python",
   "name": "python",
   "nbconvert_exporter": "python",
   "pygments_lexer": "ipython3",
   "version": "3.9.13"
  }
 },
 "nbformat": 4,
 "nbformat_minor": 5
}
