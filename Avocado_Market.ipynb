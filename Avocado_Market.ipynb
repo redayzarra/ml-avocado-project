{
 "cells": [
  {
   "cell_type": "markdown",
   "id": "d94507c9",
   "metadata": {},
   "source": [
    "# Avocado Market - Time Series Regression"
   ]
  },
  {
   "cell_type": "markdown",
   "id": "2b129938",
   "metadata": {},
   "source": [
    "### by ReDay Zarra"
   ]
  },
  {
   "cell_type": "markdown",
   "id": "87182943",
   "metadata": {},
   "source": [
    "This project utilizes **Facebook Prophet** to analyze time series data for avocados from this dataset. The data includes observation dates, average unit price, unit type, region, volume and more. This time series data will then be used to **predict the prices for avocados** at any given date. This project showcases a \n",
    "step-by-step implementation of the model as well as in-depth notes to customize the \n",
    "model further for higher accuracy."
   ]
  },
  {
   "cell_type": "markdown",
   "id": "972bd187",
   "metadata": {},
   "source": [
    "## Importing the necessary libraries"
   ]
  },
  {
   "cell_type": "code",
   "execution_count": 1,
   "id": "a0d54899",
   "metadata": {},
   "outputs": [],
   "source": [
    "import numpy as np\n",
    "import pandas as pd\n",
    "import matplotlib.pyplot as plt\n",
    "import random\n",
    "import seaborn as sns"
   ]
  },
  {
   "cell_type": "markdown",
   "id": "fa9566d4",
   "metadata": {},
   "source": [
    "> Pandas is a library used for data frame manipulations. NumPy is a package used for numerical analysis. Matplotlib and Seaborn are used for data visualization. Random will be used to generate random values."
   ]
  },
  {
   "cell_type": "code",
   "execution_count": null,
   "id": "37b40722",
   "metadata": {},
   "outputs": [],
   "source": [
    "avocado_df = pd.read_csv('avocado.csv')"
   ]
  }
 ],
 "metadata": {
  "kernelspec": {
   "display_name": "Python 3 (ipykernel)",
   "language": "python",
   "name": "python3"
  },
  "language_info": {
   "codemirror_mode": {
    "name": "ipython",
    "version": 3
   },
   "file_extension": ".py",
   "mimetype": "text/x-python",
   "name": "python",
   "nbconvert_exporter": "python",
   "pygments_lexer": "ipython3",
   "version": "3.9.13"
  }
 },
 "nbformat": 4,
 "nbformat_minor": 5
}
